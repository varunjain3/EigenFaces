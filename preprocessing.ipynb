{
 "metadata": {
  "language_info": {
   "codemirror_mode": {
    "name": "ipython",
    "version": 3
   },
   "file_extension": ".py",
   "mimetype": "text/x-python",
   "name": "python",
   "nbconvert_exporter": "python",
   "pygments_lexer": "ipython3",
   "version": 3
  },
  "orig_nbformat": 2
 },
 "nbformat": 4,
 "nbformat_minor": 2,
 "cells": [
  {
   "cell_type": "code",
   "execution_count": null,
   "metadata": {},
   "outputs": [],
   "source": [
    "!wget -O YaleDateset.tar.gz https://vismod.media.mit.edu/vismod/classes/mas622-00/datasets/YALE.tar.gz\n",
    "!tar xvf /content/YaleDateset.tar.gz > /dev/null 2>&1"
   ]
  },
  {
   "cell_type": "code",
   "execution_count": null,
   "metadata": {},
   "outputs": [],
   "source": [
    "ImagesPath = {}\n",
    "for (dirpath, dirnames, filenames) in os.walk(DATASET_PATH):\n",
    "  i = 0\n",
    "  for filename in sorted(filenames):\n",
    "    if len(filename.split(\".\")) == 2:\n",
    "      i = i+1\n",
    "      imagename = filename.split(\".\")[0][-2:] +\"_\" + str((i)%11 + 1).zfill(2)    \n",
    "      ImagesPath[imagename] = os.sep.join([dirpath, filename])\n",
    "    else:\n",
    "      continue\n",
    "print(\"Number of Images - {}\".format(len(ImagesPath)))\n",
    "# ImagesPath"
   ]
  }
 ]
}