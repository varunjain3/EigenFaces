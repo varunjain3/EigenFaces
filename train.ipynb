{
 "metadata": {
  "language_info": {
   "codemirror_mode": {
    "name": "ipython",
    "version": 3
   },
   "file_extension": ".py",
   "mimetype": "text/x-python",
   "name": "python",
   "nbconvert_exporter": "python",
   "pygments_lexer": "ipython3",
   "version": "3.5.6-final"
  },
  "orig_nbformat": 2,
  "kernelspec": {
   "name": "python_defaultSpec_1601651669017",
   "display_name": "Python 3.5.6 64-bit ('cv3.5': conda)",
   "metadata": {
    "interpreter": {
     "hash": "462ae0f680598b7af60426e82f96bd984d695cbbfafd29a908e429d295b8b575"
    }
   }
  }
 },
 "nbformat": 4,
 "nbformat_minor": 2,
 "cells": [
  {
   "cell_type": "code",
   "execution_count": null,
   "metadata": {},
   "outputs": [],
   "source": [
    "%matplotlib inline\n",
    "import cv2 as cv\n",
    "import os\n",
    "import PIL\n",
    "import matplotlib.pyplot as plt\n",
    "import numpy as np\n"
   ]
  },
  {
   "cell_type": "code",
   "execution_count": 84,
   "metadata": {
    "tags": []
   },
   "outputs": [
    {
     "output_type": "stream",
     "name": "stdout",
     "text": "Dataset is  c:\\Users\\jaina\\Google Drive\\Class\\5th Sem\\PRP\\Assignment2\\EigenFaces\\YALE\nData Dir is  c:\\Users\\jaina\\Google Drive\\Class\\5th Sem\\PRP\\Assignment2\\EigenFaces\\data\nPos Dir is  c:\\Users\\jaina\\Google Drive\\Class\\5th Sem\\PRP\\Assignment2\\EigenFaces\\data\\pos\nFace Dir is  c:\\Users\\jaina\\Google Drive\\Class\\5th Sem\\PRP\\Assignment2\\EigenFaces\\faces\n"
    }
   ],
   "source": [
    "DATASET = os.path.join(os.getcwd(),\"YALE\") \n",
    "DATA_DIR = os.path.join(os.getcwd(),\"data\")\n",
    "POS_DIR = os.path.join(DATA_DIR,\"pos\")\n",
    "FACE_DIR = os.path.join(os.getcwd(),\"faces\")\n",
    "print(\"Dataset is \",DATASET)\n",
    "print(\"Data Dir is \",DATA_DIR)\n",
    "print(\"Pos Dir is \",POS_DIR)\n",
    "print(\"Face Dir is \",FACE_DIR) "
   ]
  },
  {
   "cell_type": "code",
   "execution_count": null,
   "metadata": {},
   "outputs": [],
   "source": [
    "def read_im(path):\n",
    "    image = PIL.Image.open(path)\n",
    "    return np.array(image)\n",
    "\n",
    "def show_im(image):\n",
    "    plt.imshow(image,cmap=\"gray\")\n",
    "    plt.show()\n",
    "\n",
    "def find_faces(gray):\n",
    "  faces = face_cascade.detectMultiScale(gray, 1.3, 3)\n",
    "  return faces"
   ]
  },
  {
   "cell_type": "code",
   "execution_count": 79,
   "metadata": {
    "tags": []
   },
   "outputs": [
    {
     "output_type": "stream",
     "name": "stdout",
     "text": "data/pos/0101.jpg data/pos/3011_flip.jpg\ndata/pos/0102.jpg data/pos/3011_flip.jpg\ndata/pos/0103.jpg data/pos/3011_flip.jpg\ndata/pos/0104.jpg data/pos/3011_flip.jpg\ndata/pos/0105.jpg data/pos/3011_flip.jpg\ndata/pos/0106.jpg data/pos/3011_flip.jpg\ndata/pos/0107.jpg data/pos/3011_flip.jpg\ndata/pos/0108.jpg data/pos/3011_flip.jpg\ndata/pos/0109.jpg data/pos/3011_flip.jpg\ndata/pos/0110.jpg data/pos/3011_flip.jpg\ndata/pos/0111.jpg data/pos/3011_flip.jpg\ndata/pos/0201.jpg data/pos/3011_flip.jpg\ndata/pos/0202.jpg data/pos/3011_flip.jpg\ndata/pos/0203.jpg data/pos/3011_flip.jpg\ndata/pos/0204.jpg data/pos/3011_flip.jpg\ndata/pos/0205.jpg data/pos/3011_flip.jpg\ndata/pos/0206.jpg data/pos/3011_flip.jpg\ndata/pos/0207.jpg data/pos/3011_flip.jpg\ndata/pos/0208.jpg data/pos/3011_flip.jpg\ndata/pos/0209.jpg data/pos/3011_flip.jpg\ndata/pos/0210.jpg data/pos/3011_flip.jpg\ndata/pos/0211.jpg data/pos/3011_flip.jpg\ndata/pos/0301.jpg data/pos/3011_flip.jpg\ndata/pos/0302.jpg data/pos/3011_flip.jpg\ndata/pos/0303.jpg data/pos/3011_flip.jpg\ndata/pos/0304.jpg data/pos/3011_flip.jpg\ndata/pos/0305.jpg data/pos/3011_flip.jpg\ndata/pos/0306.jpg data/pos/3011_flip.jpg\ndata/pos/0307.jpg data/pos/3011_flip.jpg\ndata/pos/0308.jpg data/pos/3011_flip.jpg\ndata/pos/0309.jpg data/pos/3011_flip.jpg\ndata/pos/0310.jpg data/pos/3011_flip.jpg\ndata/pos/0311.jpg data/pos/3011_flip.jpg\ndata/pos/0401.jpg data/pos/3011_flip.jpg\ndata/pos/0402.jpg data/pos/3011_flip.jpg\ndata/pos/0403.jpg data/pos/3011_flip.jpg\ndata/pos/0404.jpg data/pos/3011_flip.jpg\ndata/pos/0405.jpg data/pos/3011_flip.jpg\ndata/pos/0406.jpg data/pos/3011_flip.jpg\ndata/pos/0407.jpg data/pos/3011_flip.jpg\ndata/pos/0408.jpg data/pos/3011_flip.jpg\ndata/pos/0409.jpg data/pos/3011_flip.jpg\ndata/pos/0410.jpg data/pos/3011_flip.jpg\ndata/pos/0411.jpg data/pos/3011_flip.jpg\ndata/pos/0501.jpg data/pos/3011_flip.jpg\ndata/pos/0502.jpg data/pos/3011_flip.jpg\ndata/pos/0503.jpg data/pos/3011_flip.jpg\ndata/pos/0504.jpg data/pos/3011_flip.jpg\ndata/pos/0505.jpg data/pos/3011_flip.jpg\ndata/pos/0506.jpg data/pos/3011_flip.jpg\ndata/pos/0507.jpg data/pos/3011_flip.jpg\ndata/pos/0508.jpg data/pos/3011_flip.jpg\ndata/pos/0509.jpg data/pos/3011_flip.jpg\ndata/pos/0510.jpg data/pos/3011_flip.jpg\ndata/pos/0511.jpg data/pos/3011_flip.jpg\ndata/pos/0601.jpg data/pos/3011_flip.jpg\ndata/pos/0602.jpg data/pos/3011_flip.jpg\ndata/pos/0603.jpg data/pos/3011_flip.jpg\ndata/pos/0604.jpg data/pos/3011_flip.jpg\ndata/pos/0605.jpg data/pos/3011_flip.jpg\ndata/pos/0606.jpg data/pos/3011_flip.jpg\ndata/pos/0607.jpg data/pos/3011_flip.jpg\ndata/pos/0608.jpg data/pos/3011_flip.jpg\ndata/pos/0609.jpg data/pos/3011_flip.jpg\ndata/pos/0610.jpg data/pos/3011_flip.jpg\ndata/pos/0611.jpg data/pos/3011_flip.jpg\ndata/pos/0701.jpg data/pos/3011_flip.jpg\ndata/pos/0702.jpg data/pos/3011_flip.jpg\ndata/pos/0703.jpg data/pos/3011_flip.jpg\ndata/pos/0704.jpg data/pos/3011_flip.jpg\ndata/pos/0705.jpg data/pos/3011_flip.jpg\ndata/pos/0706.jpg data/pos/3011_flip.jpg\ndata/pos/0707.jpg data/pos/3011_flip.jpg\ndata/pos/0708.jpg data/pos/3011_flip.jpg\ndata/pos/0709.jpg data/pos/3011_flip.jpg\ndata/pos/0710.jpg data/pos/3011_flip.jpg\ndata/pos/0711.jpg data/pos/3011_flip.jpg\ndata/pos/0801.jpg data/pos/3011_flip.jpg\ndata/pos/0802.jpg data/pos/3011_flip.jpg\ndata/pos/0803.jpg data/pos/3011_flip.jpg\ndata/pos/0804.jpg data/pos/3011_flip.jpg\ndata/pos/0805.jpg data/pos/3011_flip.jpg\ndata/pos/0806.jpg data/pos/3011_flip.jpg\ndata/pos/0807.jpg data/pos/3011_flip.jpg\ndata/pos/0808.jpg data/pos/3011_flip.jpg\ndata/pos/0809.jpg data/pos/3011_flip.jpg\ndata/pos/0810.jpg data/pos/3011_flip.jpg\ndata/pos/0811.jpg data/pos/3011_flip.jpg\ndata/pos/0901.jpg data/pos/3011_flip.jpg\ndata/pos/0902.jpg data/pos/3011_flip.jpg\ndata/pos/0903.jpg data/pos/3011_flip.jpg\ndata/pos/0904.jpg data/pos/3011_flip.jpg\ndata/pos/0905.jpg data/pos/3011_flip.jpg\ndata/pos/0906.jpg data/pos/3011_flip.jpg\ndata/pos/0907.jpg data/pos/3011_flip.jpg\ndata/pos/0908.jpg data/pos/3011_flip.jpg\ndata/pos/0909.jpg data/pos/3011_flip.jpg\ndata/pos/0910.jpg data/pos/3011_flip.jpg\ndata/pos/0911.jpg data/pos/3011_flip.jpg\ndata/pos/1001.jpg data/pos/3011_flip.jpg\ndata/pos/1002.jpg data/pos/3011_flip.jpg\ndata/pos/1003.jpg data/pos/3011_flip.jpg\ndata/pos/1004.jpg data/pos/3011_flip.jpg\ndata/pos/1005.jpg data/pos/3011_flip.jpg\ndata/pos/1006.jpg data/pos/3011_flip.jpg\ndata/pos/1007.jpg data/pos/3011_flip.jpg\ndata/pos/1008.jpg data/pos/3011_flip.jpg\ndata/pos/1009.jpg data/pos/3011_flip.jpg\ndata/pos/1010.jpg data/pos/3011_flip.jpg\ndata/pos/1011.jpg data/pos/3011_flip.jpg\ndata/pos/1101.jpg data/pos/3011_flip.jpg\ndata/pos/1102.jpg data/pos/3011_flip.jpg\ndata/pos/1103.jpg data/pos/3011_flip.jpg\ndata/pos/1104.jpg data/pos/3011_flip.jpg\ndata/pos/1105.jpg data/pos/3011_flip.jpg\ndata/pos/1106.jpg data/pos/3011_flip.jpg\ndata/pos/1107.jpg data/pos/3011_flip.jpg\ndata/pos/1108.jpg data/pos/3011_flip.jpg\ndata/pos/1109.jpg data/pos/3011_flip.jpg\ndata/pos/1110.jpg data/pos/3011_flip.jpg\ndata/pos/1111.jpg data/pos/3011_flip.jpg\ndata/pos/1201.jpg data/pos/3011_flip.jpg\ndata/pos/1202.jpg data/pos/3011_flip.jpg\ndata/pos/1203.jpg data/pos/3011_flip.jpg\ndata/pos/1204.jpg data/pos/3011_flip.jpg\ndata/pos/1205.jpg data/pos/3011_flip.jpg\ndata/pos/1206.jpg data/pos/3011_flip.jpg\ndata/pos/1207.jpg data/pos/3011_flip.jpg\ndata/pos/1208.jpg data/pos/3011_flip.jpg\ndata/pos/1209.jpg data/pos/3011_flip.jpg\ndata/pos/1210.jpg data/pos/3011_flip.jpg\ndata/pos/1211.jpg data/pos/3011_flip.jpg\ndata/pos/1301.jpg data/pos/3011_flip.jpg\ndata/pos/1302.jpg data/pos/3011_flip.jpg\ndata/pos/1303.jpg data/pos/3011_flip.jpg\ndata/pos/1304.jpg data/pos/3011_flip.jpg\ndata/pos/1305.jpg data/pos/3011_flip.jpg\ndata/pos/1306.jpg data/pos/3011_flip.jpg\ndata/pos/1307.jpg data/pos/3011_flip.jpg\ndata/pos/1308.jpg data/pos/3011_flip.jpg\ndata/pos/1309.jpg data/pos/3011_flip.jpg\ndata/pos/1310.jpg data/pos/3011_flip.jpg\ndata/pos/1311.jpg data/pos/3011_flip.jpg\ndata/pos/1401.jpg data/pos/3011_flip.jpg\ndata/pos/1402.jpg data/pos/3011_flip.jpg\ndata/pos/1403.jpg data/pos/3011_flip.jpg\ndata/pos/1404.jpg data/pos/3011_flip.jpg\ndata/pos/1405.jpg data/pos/3011_flip.jpg\ndata/pos/1406.jpg data/pos/3011_flip.jpg\ndata/pos/1407.jpg data/pos/3011_flip.jpg\ndata/pos/1408.jpg data/pos/3011_flip.jpg\ndata/pos/1409.jpg data/pos/3011_flip.jpg\ndata/pos/1410.jpg data/pos/3011_flip.jpg\ndata/pos/1411.jpg data/pos/3011_flip.jpg\ndata/pos/1501.jpg data/pos/3011_flip.jpg\ndata/pos/1502.jpg data/pos/3011_flip.jpg\ndata/pos/1503.jpg data/pos/3011_flip.jpg\ndata/pos/1504.jpg data/pos/3011_flip.jpg\ndata/pos/1505.jpg data/pos/3011_flip.jpg\ndata/pos/1506.jpg data/pos/3011_flip.jpg\ndata/pos/1507.jpg data/pos/3011_flip.jpg\ndata/pos/1508.jpg data/pos/3011_flip.jpg\ndata/pos/1509.jpg data/pos/3011_flip.jpg\ndata/pos/1510.jpg data/pos/3011_flip.jpg\ndata/pos/1511.jpg data/pos/3011_flip.jpg\ndata/pos/1601.jpg data/pos/3011_flip.jpg\ndata/pos/1602.jpg data/pos/3011_flip.jpg\ndata/pos/1603.jpg data/pos/3011_flip.jpg\ndata/pos/1604.jpg data/pos/3011_flip.jpg\ndata/pos/1605.jpg data/pos/3011_flip.jpg\ndata/pos/1606.jpg data/pos/3011_flip.jpg\ndata/pos/1607.jpg data/pos/3011_flip.jpg\ndata/pos/1608.jpg data/pos/3011_flip.jpg\ndata/pos/1609.jpg data/pos/3011_flip.jpg\ndata/pos/1610.jpg data/pos/3011_flip.jpg\ndata/pos/1611.jpg data/pos/3011_flip.jpg\ndata/pos/1701.jpg data/pos/3011_flip.jpg\ndata/pos/1702.jpg data/pos/3011_flip.jpg\ndata/pos/1703.jpg data/pos/3011_flip.jpg\ndata/pos/1704.jpg data/pos/3011_flip.jpg\ndata/pos/1705.jpg data/pos/3011_flip.jpg\ndata/pos/1706.jpg data/pos/3011_flip.jpg\ndata/pos/1707.jpg data/pos/3011_flip.jpg\ndata/pos/1708.jpg data/pos/3011_flip.jpg\ndata/pos/1709.jpg data/pos/3011_flip.jpg\ndata/pos/1710.jpg data/pos/3011_flip.jpg\ndata/pos/1711.jpg data/pos/3011_flip.jpg\ndata/pos/1801.jpg data/pos/3011_flip.jpg\ndata/pos/1802.jpg data/pos/3011_flip.jpg\ndata/pos/1803.jpg data/pos/3011_flip.jpg\ndata/pos/1804.jpg data/pos/3011_flip.jpg\ndata/pos/1805.jpg data/pos/3011_flip.jpg\ndata/pos/1806.jpg data/pos/3011_flip.jpg\ndata/pos/1807.jpg data/pos/3011_flip.jpg\ndata/pos/1808.jpg data/pos/3011_flip.jpg\ndata/pos/1809.jpg data/pos/3011_flip.jpg\ndata/pos/1810.jpg data/pos/3011_flip.jpg\ndata/pos/1811.jpg data/pos/3011_flip.jpg\ndata/pos/1901.jpg data/pos/3011_flip.jpg\ndata/pos/1902.jpg data/pos/3011_flip.jpg\ndata/pos/1903.jpg data/pos/3011_flip.jpg\ndata/pos/1904.jpg data/pos/3011_flip.jpg\ndata/pos/1905.jpg data/pos/3011_flip.jpg\ndata/pos/1906.jpg data/pos/3011_flip.jpg\ndata/pos/1907.jpg data/pos/3011_flip.jpg\ndata/pos/1908.jpg data/pos/3011_flip.jpg\ndata/pos/1909.jpg data/pos/3011_flip.jpg\ndata/pos/1910.jpg data/pos/3011_flip.jpg\ndata/pos/1911.jpg data/pos/3011_flip.jpg\ndata/pos/2001.jpg data/pos/3011_flip.jpg\ndata/pos/2002.jpg data/pos/3011_flip.jpg\ndata/pos/2003.jpg data/pos/3011_flip.jpg\ndata/pos/2004.jpg data/pos/3011_flip.jpg\ndata/pos/2005.jpg data/pos/3011_flip.jpg\ndata/pos/2006.jpg data/pos/3011_flip.jpg\ndata/pos/2007.jpg data/pos/3011_flip.jpg\ndata/pos/2008.jpg data/pos/3011_flip.jpg\ndata/pos/2009.jpg data/pos/3011_flip.jpg\ndata/pos/2010.jpg data/pos/3011_flip.jpg\ndata/pos/2011.jpg data/pos/3011_flip.jpg\ndata/pos/2101.jpg data/pos/3011_flip.jpg\ndata/pos/2102.jpg data/pos/3011_flip.jpg\ndata/pos/2103.jpg data/pos/3011_flip.jpg\ndata/pos/2104.jpg data/pos/3011_flip.jpg\ndata/pos/2105.jpg data/pos/3011_flip.jpg\ndata/pos/2106.jpg data/pos/3011_flip.jpg\ndata/pos/2107.jpg data/pos/3011_flip.jpg\ndata/pos/2108.jpg data/pos/3011_flip.jpg\ndata/pos/2109.jpg data/pos/3011_flip.jpg\ndata/pos/2110.jpg data/pos/3011_flip.jpg\ndata/pos/2111.jpg data/pos/3011_flip.jpg\ndata/pos/2201.jpg data/pos/3011_flip.jpg\ndata/pos/2202.jpg data/pos/3011_flip.jpg\ndata/pos/2203.jpg data/pos/3011_flip.jpg\ndata/pos/2204.jpg data/pos/3011_flip.jpg\ndata/pos/2205.jpg data/pos/3011_flip.jpg\ndata/pos/2206.jpg data/pos/3011_flip.jpg\ndata/pos/2207.jpg data/pos/3011_flip.jpg\ndata/pos/2208.jpg data/pos/3011_flip.jpg\ndata/pos/2209.jpg data/pos/3011_flip.jpg\ndata/pos/2210.jpg data/pos/3011_flip.jpg\ndata/pos/2211.jpg data/pos/3011_flip.jpg\ndata/pos/2301.jpg data/pos/3011_flip.jpg\ndata/pos/2302.jpg data/pos/3011_flip.jpg\ndata/pos/2303.jpg data/pos/3011_flip.jpg\ndata/pos/2304.jpg data/pos/3011_flip.jpg\ndata/pos/2305.jpg data/pos/3011_flip.jpg\ndata/pos/2306.jpg data/pos/3011_flip.jpg\ndata/pos/2307.jpg data/pos/3011_flip.jpg\ndata/pos/2308.jpg data/pos/3011_flip.jpg\ndata/pos/2309.jpg data/pos/3011_flip.jpg\ndata/pos/2310.jpg data/pos/3011_flip.jpg\ndata/pos/2311.jpg data/pos/3011_flip.jpg\ndata/pos/2401.jpg data/pos/3011_flip.jpg\ndata/pos/2402.jpg data/pos/3011_flip.jpg\ndata/pos/2403.jpg data/pos/3011_flip.jpg\ndata/pos/2404.jpg data/pos/3011_flip.jpg\ndata/pos/2405.jpg data/pos/3011_flip.jpg\ndata/pos/2406.jpg data/pos/3011_flip.jpg\ndata/pos/2407.jpg data/pos/3011_flip.jpg\ndata/pos/2408.jpg data/pos/3011_flip.jpg\ndata/pos/2409.jpg data/pos/3011_flip.jpg\ndata/pos/2410.jpg data/pos/3011_flip.jpg\ndata/pos/2411.jpg data/pos/3011_flip.jpg\ndata/pos/2501.jpg data/pos/3011_flip.jpg\ndata/pos/2502.jpg data/pos/3011_flip.jpg\ndata/pos/2503.jpg data/pos/3011_flip.jpg\ndata/pos/2504.jpg data/pos/3011_flip.jpg\ndata/pos/2505.jpg data/pos/3011_flip.jpg\ndata/pos/2506.jpg data/pos/3011_flip.jpg\ndata/pos/2507.jpg data/pos/3011_flip.jpg\ndata/pos/2508.jpg data/pos/3011_flip.jpg\ndata/pos/2509.jpg data/pos/3011_flip.jpg\ndata/pos/2510.jpg data/pos/3011_flip.jpg\ndata/pos/2511.jpg data/pos/3011_flip.jpg\ndata/pos/2601.jpg data/pos/3011_flip.jpg\ndata/pos/2602.jpg data/pos/3011_flip.jpg\ndata/pos/2603.jpg data/pos/3011_flip.jpg\ndata/pos/2604.jpg data/pos/3011_flip.jpg\ndata/pos/2605.jpg data/pos/3011_flip.jpg\ndata/pos/2606.jpg data/pos/3011_flip.jpg\ndata/pos/2607.jpg data/pos/3011_flip.jpg\ndata/pos/2608.jpg data/pos/3011_flip.jpg\ndata/pos/2609.jpg data/pos/3011_flip.jpg\ndata/pos/2610.jpg data/pos/3011_flip.jpg\ndata/pos/2611.jpg data/pos/3011_flip.jpg\ndata/pos/2701.jpg data/pos/3011_flip.jpg\ndata/pos/2702.jpg data/pos/3011_flip.jpg\ndata/pos/2703.jpg data/pos/3011_flip.jpg\ndata/pos/2704.jpg data/pos/3011_flip.jpg\ndata/pos/2705.jpg data/pos/3011_flip.jpg\ndata/pos/2706.jpg data/pos/3011_flip.jpg\ndata/pos/2707.jpg data/pos/3011_flip.jpg\ndata/pos/2708.jpg data/pos/3011_flip.jpg\ndata/pos/2709.jpg data/pos/3011_flip.jpg\ndata/pos/2710.jpg data/pos/3011_flip.jpg\ndata/pos/2711.jpg data/pos/3011_flip.jpg\ndata/pos/2801.jpg data/pos/3011_flip.jpg\ndata/pos/2802.jpg data/pos/3011_flip.jpg\ndata/pos/2803.jpg data/pos/3011_flip.jpg\ndata/pos/2804.jpg data/pos/3011_flip.jpg\ndata/pos/2805.jpg data/pos/3011_flip.jpg\ndata/pos/2806.jpg data/pos/3011_flip.jpg\ndata/pos/2807.jpg data/pos/3011_flip.jpg\ndata/pos/2808.jpg data/pos/3011_flip.jpg\ndata/pos/2809.jpg data/pos/3011_flip.jpg\ndata/pos/2810.jpg data/pos/3011_flip.jpg\ndata/pos/2811.jpg data/pos/3011_flip.jpg\ndata/pos/2901.jpg data/pos/3011_flip.jpg\ndata/pos/2902.jpg data/pos/3011_flip.jpg\ndata/pos/2903.jpg data/pos/3011_flip.jpg\ndata/pos/2904.jpg data/pos/3011_flip.jpg\ndata/pos/2905.jpg data/pos/3011_flip.jpg\ndata/pos/2906.jpg data/pos/3011_flip.jpg\ndata/pos/2907.jpg data/pos/3011_flip.jpg\ndata/pos/2908.jpg data/pos/3011_flip.jpg\ndata/pos/2909.jpg data/pos/3011_flip.jpg\ndata/pos/2910.jpg data/pos/3011_flip.jpg\ndata/pos/2911.jpg data/pos/3011_flip.jpg\ndata/pos/3001.jpg data/pos/3011_flip.jpg\ndata/pos/3002.jpg data/pos/3011_flip.jpg\ndata/pos/3003.jpg data/pos/3011_flip.jpg\ndata/pos/3004.jpg data/pos/3011_flip.jpg\ndata/pos/3005.jpg data/pos/3011_flip.jpg\ndata/pos/3006.jpg data/pos/3011_flip.jpg\ndata/pos/3007.jpg data/pos/3011_flip.jpg\ndata/pos/3008.jpg data/pos/3011_flip.jpg\ndata/pos/3009.jpg data/pos/3011_flip.jpg\ndata/pos/3010.jpg data/pos/3011_flip.jpg\ndata/pos/3011.jpg data/pos/3011_flip.jpg\n"
    }
   ],
   "source": [
    "# For preparing pos images \n",
    "count = 0\n",
    "\n",
    "for dirpath, dirnames, filenames in os.walk(FACE_DIR):\n",
    "    for file in filenames:\n",
    "        i = count // 11 + 1\n",
    "        j = count % 11 + 1\n",
    "        count+= 1\n",
    "\n",
    "        # print(file)\n",
    "        im = PIL.Image.open(os.path.join(dirpath,file)) \n",
    "        # im_flip = im.transpose(PIL.Image.FLIP_LEFT_RIGHT)\n",
    "        # show_im(im)\n",
    "        # show_im(im_flip)\n",
    "        # print(i,j)\n",
    "        new_file = \"data/pos/\" + str(i).zfill(2) + str(j).zfill(2) + '.jpg'\n",
    "        # flip_file = \"data/pos/\" + str(i).zfill(2) + str(j).zfill(2) + '_flip.jpg'\n",
    "        print(new_file,flip_file)\n",
    "        im.save(new_file)\n",
    "        # im_flip.save(flip_file)"
   ]
  },
  {
   "cell_type": "code",
   "execution_count": 68,
   "metadata": {
    "tags": []
   },
   "outputs": [],
   "source": [
    "for dirpath, dirnames, filenames in os.walk(POS_DIR):\n",
    "    for file in filenames:\n",
    "        img = read_im(os.path.join(dirpath,file))\n",
    "        faces = find_faces(img)\n",
    "        # print(faces)\n",
    "        line = \"pos\" + \"/\" + file + \" 1 {} {} {} {}\\n\".format(faces[0][0],faces[0][1],faces[0][2],faces[0][3])\n",
    "        with open(os.path.join(POS_DIR,\"info.dat\"),'a') as f:\n",
    "            f.write(line)\n",
    "        # print(line)  \n"
   ]
  },
  {
   "cell_type": "code",
   "execution_count": 85,
   "metadata": {
    "tags": []
   },
   "outputs": [
    {
     "output_type": "stream",
     "name": "stdout",
     "text": "neg/neg-0002.jpg\nneg/neg-0003.jpg\nneg/neg-0004.jpg\nneg/neg-0005.jpg\nneg/neg-0006.jpg\nneg/neg-0007.jpg\nneg/neg-0009.jpg\nneg/neg-0010.jpg\nneg/neg-0011.jpg\nneg/neg-0012.jpg\nneg/neg-0013.jpg\nneg/neg-0015.jpg\nneg/neg-0016.jpg\nneg/neg-0019.jpg\nneg/neg-0020.jpg\nneg/neg-0022.jpg\nneg/neg-0023.jpg\nneg/neg-0024.jpg\nneg/neg-0025.jpg\nneg/neg-0026.jpg\nneg/neg-0027.jpg\nneg/neg-0028.jpg\nneg/neg-0029.jpg\nneg/neg-0030.jpg\nneg/neg-0031.jpg\nneg/neg-0034.jpg\nneg/neg-0035.jpg\nneg/neg-0036.jpg\nneg/neg-0037.jpg\nneg/neg-0038.jpg\nneg/neg-0039.jpg\nneg/neg-0040.jpg\nneg/neg-0041.jpg\nneg/neg-0042.jpg\nneg/neg-0044.jpg\nneg/neg-0045.jpg\nneg/neg-0046.jpg\nneg/neg-0047.jpg\nneg/neg-0048.jpg\nneg/neg-0049.jpg\nneg/neg-0050.jpg\nneg/neg-0051.jpg\nneg/neg-0052.jpg\nneg/neg-0053.jpg\nneg/neg-0054.jpg\nneg/neg-0055.jpg\nneg/neg-0056.jpg\nneg/neg-0057.jpg\nneg/neg-0058.jpg\nneg/neg-0059.jpg\nneg/neg-0060.jpg\nneg/neg-0061.jpg\nneg/neg-0062.jpg\nneg/neg-0063.jpg\nneg/neg-0064.jpg\nneg/neg-0065.jpg\nneg/neg-0066.jpg\nneg/neg-0067.jpg\nneg/neg-0068.jpg\nneg/neg-0069.jpg\nneg/neg-0070.jpg\nneg/neg-0071.jpg\nneg/neg-0072.jpg\nneg/neg-0073.jpg\nneg/neg-0074.jpg\nneg/neg-0075.jpg\nneg/neg-0076.jpg\nneg/neg-0077.jpg\nneg/neg-0078.jpg\nneg/neg-0079.jpg\nneg/neg-0080.jpg\nneg/neg-0081.jpg\nneg/neg-0082.jpg\nneg/neg-0083.jpg\nneg/neg-0084.jpg\nneg/neg-0085.jpg\nneg/neg-0086.jpg\nneg/neg-0087.jpg\nneg/neg-0088.jpg\nneg/neg-0089.jpg\nneg/neg-0090.jpg\nneg/neg-0091.jpg\nneg/neg-0092.jpg\nneg/neg-0093.jpg\nneg/neg-0094.jpg\nneg/neg-0095.jpg\nneg/neg-0096.jpg\nneg/neg-0097.jpg\nneg/neg-0098.jpg\nneg/neg-0099.jpg\nneg/neg-0100.jpg\nneg/neg-0101.jpg\nneg/neg-0102.jpg\nneg/neg-0103.jpg\nneg/neg-0104.jpg\nneg/neg-0105.jpg\nneg/neg-0106.jpg\nneg/neg-0107.jpg\nneg/neg-0108.jpg\nneg/neg-0109.jpg\nneg/neg-0110.jpg\nneg/neg-0111.jpg\nneg/neg-0112.jpg\nneg/neg-0113.jpg\nneg/neg-0114.jpg\nneg/neg-0115.jpg\nneg/neg-0116.jpg\nneg/neg-0118.jpg\nneg/neg-0119.jpg\nneg/neg-0121.jpg\nneg/neg-0123.jpg\nneg/neg-0124.jpg\nneg/neg-0125.jpg\nneg/neg-0126.jpg\nneg/neg-0127.jpg\nneg/neg-0128.jpg\nneg/neg-0129.jpg\nneg/neg-0130.jpg\nneg/neg-0131.jpg\nneg/neg-0132.jpg\nneg/neg-0133.jpg\nneg/neg-0134.jpg\nneg/neg-0135.jpg\nneg/neg-0136.jpg\nneg/neg-0137.jpg\nneg/neg-0138.jpg\nneg/neg-0141.jpg\nneg/neg-0142.jpg\nneg/neg-0143.jpg\nneg/neg-0144.jpg\nneg/neg-0145.jpg\nneg/neg-0146.jpg\nneg/neg-0147.jpg\nneg/neg-0148.jpg\nneg/neg-0149.jpg\nneg/neg-0150.jpg\nneg/neg-0151.jpg\nneg/neg-0152.jpg\nneg/neg-0153.jpg\nneg/neg-0154.jpg\nneg/neg-0155.jpg\nneg/neg-0156.jpg\nneg/neg-0157.jpg\nneg/neg-0158.jpg\nneg/neg-0159.jpg\nneg/neg-0161.jpg\nneg/neg-0162.jpg\nneg/neg-0163.jpg\nneg/neg-0164.jpg\nneg/neg-0165.jpg\nneg/neg-0166.jpg\nneg/neg-0167.jpg\nneg/neg-0168.jpg\nneg/neg-0169.jpg\nneg/neg-0170.jpg\nneg/neg-0171.jpg\nneg/neg-0172.jpg\nneg/neg-0173.jpg\nneg/neg-0174.jpg\nneg/neg-0176.jpg\nneg/neg-0179.jpg\nneg/neg-0180.jpg\nneg/neg-0181.jpg\nneg/neg-0182.jpg\nneg/neg-0183.jpg\nneg/neg-0184.jpg\nneg/neg-0185.jpg\nneg/neg-0186.jpg\nneg/neg-0187.jpg\nneg/neg-0189.jpg\nneg/neg-0190.jpg\nneg/neg-0191.jpg\nneg/neg-0192.jpg\nneg/neg-0193.jpg\nneg/neg-0194.jpg\nneg/neg-0195.jpg\nneg/neg-0196.jpg\nneg/neg-0197.jpg\nneg/neg-0198.jpg\nneg/neg-0199.jpg\nneg/neg-0200.jpg\nneg/neg-0201.jpg\nneg/neg-0202.jpg\nneg/neg-0203.jpg\nneg/neg-0204.jpg\nneg/neg-0205.jpg\nneg/neg-0207.jpg\nneg/neg-0208.jpg\nneg/neg-0209.jpg\nneg/neg-0210.jpg\nneg/neg-0211.jpg\nneg/neg-0213.jpg\nneg/neg-0214.jpg\nneg/neg-0215.jpg\nneg/neg-0216.jpg\nneg/neg-0217.jpg\nneg/neg-0218.jpg\nneg/neg-0219.jpg\nneg/neg-0220.jpg\nneg/neg-0221.jpg\nneg/neg-0222.jpg\nneg/neg-0223.jpg\nneg/neg-0224.jpg\nneg/neg-0225.jpg\nneg/neg-0226.jpg\nneg/neg-0227.jpg\nneg/neg-0228.jpg\nneg/neg-0229.jpg\nneg/neg-0230.jpg\nneg/neg-0231.jpg\nneg/neg-0232.jpg\nneg/neg-0233.jpg\nneg/neg-0234.jpg\nneg/neg-0235.jpg\nneg/neg-0236.jpg\nneg/neg-0237.jpg\nneg/neg-0238.jpg\nneg/neg-0239.jpg\nneg/neg-0240.jpg\nneg/neg-0241.jpg\nneg/neg-0242.jpg\nneg/neg-0243.jpg\nneg/neg-0244.jpg\nneg/neg-0245.jpg\nneg/neg-0246.jpg\nneg/neg-0247.jpg\nneg/neg-0248.jpg\nneg/neg-0249.jpg\nneg/neg-0250.jpg\nneg/neg-0251.jpg\nneg/neg-0252.jpg\nneg/neg-0253.jpg\nneg/neg-0254.jpg\nneg/neg-0255.jpg\nneg/neg-0256.jpg\nneg/neg-0257.jpg\nneg/neg-0258.jpg\nneg/neg-0259.jpg\nneg/neg-0260.jpg\nneg/neg-0261.jpg\nneg/neg-0262.jpg\nneg/neg-0263.jpg\nneg/neg-0264.jpg\nneg/neg-0265.jpg\nneg/neg-0266.jpg\nneg/neg-0267.jpg\nneg/neg-0268.jpg\nneg/neg-0269.jpg\nneg/neg-0270.jpg\nneg/neg-0271.jpg\nneg/neg-0272.jpg\nneg/neg-0273.jpg\nneg/neg-0274.jpg\nneg/neg-0275.jpg\nneg/neg-0279.jpg\nneg/neg-0280.jpg\nneg/neg-0281.jpg\nneg/neg-0282.jpg\nneg/neg-0283.jpg\nneg/neg-0284.jpg\nneg/neg-0285.jpg\nneg/neg-0286.jpg\nneg/neg-0287.jpg\nneg/neg-0288.jpg\nneg/neg-0289.jpg\nneg/neg-0290.jpg\nneg/neg-0291.jpg\nneg/neg-0292.jpg\nneg/neg-0293.jpg\nneg/neg-0294.jpg\nneg/neg-0295.jpg\nneg/neg-0296.jpg\nneg/neg-0297.jpg\nneg/neg-0298.jpg\nneg/neg-0299.jpg\nneg/neg-0300.jpg\nneg/neg-0301.jpg\nneg/neg-0302.jpg\nneg/neg-0303.jpg\nneg/neg-0304.jpg\nneg/neg-0305.jpg\nneg/neg-0306.jpg\nneg/neg-0307.jpg\nneg/neg-0308.jpg\nneg/neg-0309.jpg\nneg/neg-0310.jpg\nneg/neg-0311.jpg\nneg/neg-0312.jpg\nneg/neg-0314.jpg\nneg/neg-0315.jpg\nneg/neg-0316.jpg\nneg/neg-0317.jpg\nneg/neg-0318.jpg\nneg/neg-0319.jpg\nneg/neg-0320.jpg\nneg/neg-0322.jpg\nneg/neg-0323.jpg\nneg/neg-0324.jpg\nneg/neg-0325.jpg\nneg/neg-0326.jpg\nneg/neg-0327.jpg\nneg/neg-0328.jpg\nneg/neg-0329.jpg\nneg/neg-0330.jpg\nneg/neg-0331.jpg\nneg/neg-0332.jpg\nneg/neg-0333.jpg\nneg/neg-0334.jpg\nneg/neg-0335.jpg\nneg/neg-0336.jpg\nneg/neg-0337.jpg\nneg/neg-0338.jpg\nneg/neg-0339.jpg\nneg/neg-0340.jpg\nneg/neg-0341.jpg\nneg/neg-0342.jpg\nneg/neg-0343.jpg\nneg/neg-0344.jpg\nneg/neg-0345.jpg\nneg/neg-0346.jpg\nneg/neg-0347.jpg\nneg/neg-0348.jpg\nneg/neg-0349.jpg\nneg/neg-0350.jpg\nneg/neg-0351.jpg\nneg/neg-0352.jpg\nneg/neg-0355.jpg\nneg/neg-0358.jpg\nneg/neg-0360.jpg\nneg/neg-0361.jpg\nneg/neg-0362.jpg\nneg/neg-0363.jpg\nneg/neg-0364.jpg\nneg/neg-0365.jpg\nneg/neg-0366.jpg\nneg/neg-0367.jpg\nneg/neg-0368.jpg\nneg/neg-0369.jpg\nneg/neg-0370.jpg\nneg/neg-0371.jpg\nneg/neg-0373.jpg\nneg/neg-0374.jpg\nneg/neg-0375.jpg\nneg/neg-0376.jpg\nneg/neg-0377.jpg\nneg/neg-0378.jpg\nneg/neg-0379.jpg\nneg/neg-0380.jpg\nneg/neg-0381.jpg\nneg/neg-0382.jpg\nneg/neg-0383.jpg\nneg/neg-0384.jpg\nneg/neg-0385.jpg\nneg/neg-0386.jpg\nneg/neg-0388.jpg\nneg/neg-0389.jpg\nneg/neg-0390.jpg\nneg/neg-0391.jpg\nneg/neg-0394.jpg\nneg/neg-0395.jpg\nneg/neg-0396.jpg\nneg/neg-0397.jpg\nneg/neg-0398.jpg\nneg/neg-0399.jpg\nneg/neg-0400.jpg\nneg/neg-0401.jpg\nneg/neg-0402.jpg\nneg/neg-0403.jpg\nneg/neg-0404.jpg\nneg/neg-0405.jpg\nneg/neg-0406.jpg\nneg/neg-0407.jpg\nneg/neg-0412.jpg\nneg/neg-0413.jpg\nneg/neg-0416.jpg\nneg/neg-0417.jpg\nneg/neg-0418.jpg\nneg/neg-0419.jpg\nneg/neg-0420.jpg\nneg/neg-0421.jpg\nneg/neg-0422.jpg\nneg/neg-0423.jpg\nneg/neg-0424.jpg\nneg/neg-0425.jpg\nneg/neg-0426.jpg\nneg/neg-0427.jpg\nneg/neg-0428.jpg\nneg/neg-0429.jpg\nneg/neg-0430.jpg\nneg/neg-0434.jpg\nneg/neg-0435.jpg\nneg/neg-0438.jpg\nneg/neg-0439.jpg\nneg/neg-0440.jpg\nneg/neg-0441.jpg\nneg/neg-0442.jpg\nneg/neg-0443.jpg\nneg/neg-0444.jpg\nneg/neg-0445.jpg\nneg/neg-0446.jpg\nneg/neg-0447.jpg\nneg/neg-0449.jpg\nneg/neg-0450.jpg\nneg/neg-0451.jpg\nneg/neg-0452.jpg\nneg/neg-0453.jpg\nneg/neg-0454.jpg\nneg/neg-0455.jpg\nneg/neg-0456.jpg\nneg/neg-0457.jpg\nneg/neg-0458.jpg\nneg/neg-0459.jpg\nneg/neg-0460.jpg\nneg/neg-0461.jpg\nneg/neg-0462.jpg\nneg/neg-0463.jpg\nneg/neg-0464.jpg\nneg/neg-0465.jpg\nneg/neg-0466.jpg\nneg/neg-0467.jpg\nneg/neg-0469.jpg\nneg/neg-0470.jpg\nneg/neg-0471.jpg\nneg/neg-0472.jpg\nneg/neg-0473.jpg\nneg/neg-0475.jpg\nneg/neg-0476.jpg\nneg/neg-0477.jpg\nneg/neg-0478.jpg\nneg/neg-0479.jpg\nneg/neg-0481.jpg\nneg/neg-0482.jpg\nneg/neg-0483.jpg\nneg/neg-0484.jpg\nneg/neg-0485.jpg\nneg/neg-0486.jpg\nneg/neg-0488.jpg\nneg/neg-0489.jpg\nneg/neg-0490.jpg\nneg/neg-0491.jpg\nneg/neg-0492.jpg\nneg/neg-0493.jpg\nneg/neg-0494.jpg\nneg/neg-0495.jpg\nneg/neg-0496.jpg\nneg/neg-0497.jpg\nneg/neg-0498.jpg\nneg/neg-0499.jpg\nneg/neg-0500.jpg\nneg/neg-0501.jpg\nneg/neg-0502.jpg\nneg/neg-0503.jpg\nneg/neg-0506.jpg\nneg/neg-0507.jpg\nneg/neg-0508.jpg\nneg/neg-0509.jpg\nneg/neg-0510.jpg\nneg/neg-0511.jpg\nneg/neg-0512.jpg\nneg/neg-0513.jpg\nneg/neg-0514.jpg\nneg/neg-0515.jpg\nneg/neg-0516.jpg\nneg/neg-0517.jpg\nneg/neg-0520.jpg\nneg/neg-0521.jpg\nneg/neg-0522.jpg\nneg/neg-0523.jpg\nneg/neg-0524.jpg\nneg/neg-0525.jpg\nneg/neg-0526.jpg\nneg/neg-0527.jpg\nneg/neg-0529.jpg\nneg/neg-0530.jpg\nneg/neg-0533.jpg\nneg/neg-0534.jpg\nneg/neg-0535.jpg\nneg/neg-0539.jpg\nneg/neg-0540.jpg\nneg/neg-0541.jpg\nneg/neg-0543.jpg\nneg/neg-0544.jpg\nneg/neg-0545.jpg\nneg/neg-0546.jpg\nneg/neg-0547.jpg\nneg/neg-0548.jpg\nneg/neg-0549.jpg\nneg/neg-0550.jpg\nneg/neg-0551.jpg\nneg/neg-0552.jpg\nneg/neg-0553.jpg\nneg/neg-0554.jpg\nneg/neg-0555.jpg\nneg/neg-0556.jpg\nneg/neg-0557.jpg\nneg/neg-0559.jpg\nneg/neg-0561.jpg\nneg/neg-0562.jpg\nneg/neg-0563.jpg\nneg/neg-0564.jpg\nneg/neg-0565.jpg\nneg/neg-0566.jpg\nneg/neg-0567.jpg\nneg/neg-0569.jpg\nneg/neg-0572.jpg\nneg/neg-0573.jpg\nneg/neg-0574.jpg\nneg/neg-0575.jpg\nneg/neg-0576.jpg\nneg/neg-0577.jpg\nneg/neg-0578.jpg\nneg/neg-0579.jpg\nneg/neg-0580.jpg\nneg/neg-0581.jpg\nneg/neg-0582.jpg\nneg/neg-0584.jpg\nneg/neg-0586.jpg\nneg/neg-0588.jpg\nneg/neg-0589.jpg\nneg/neg-0590.jpg\nneg/neg-0591.jpg\nneg/neg-0592.jpg\nneg/neg-0593.jpg\nneg/neg-0594.jpg\nneg/neg-0595.jpg\nneg/neg-0596.jpg\nneg/neg-0597.jpg\nneg/neg-0598.jpg\nneg/neg-0599.jpg\nneg/neg-0600.jpg\nneg/neg-0601.jpg\nneg/neg-0602.jpg\nneg/neg-0603.jpg\nneg/neg-0604.jpg\nneg/neg-0605.jpg\nneg/neg-0606.jpg\nneg/neg-0607.jpg\nneg/neg-0608.jpg\nneg/neg-0609.jpg\nneg/neg-0610.jpg\nneg/neg-0611.jpg\nneg/neg-0612.jpg\nneg/neg-0613.jpg\nneg/neg-0614.jpg\nneg/neg-0615.jpg\nneg/neg-0616.jpg\nneg/neg-0617.jpg\nneg/neg-0618.jpg\nneg/neg-0619.jpg\nneg/neg-0620.jpg\nneg/neg-0621.jpg\nneg/neg-0622.jpg\nneg/neg-0623.jpg\nneg/neg-0624.jpg\nneg/neg-0625.jpg\nneg/neg-0626.jpg\nneg/neg-0627.jpg\nneg/neg-0628.jpg\nneg/neg-0629.jpg\nneg/neg-0630.jpg\nneg/neg-0631.jpg\nneg/neg-0632.jpg\nneg/neg-0633.jpg\nneg/neg-0634.jpg\nneg/neg-0635.jpg\nneg/neg-0636.jpg\nneg/neg-0637.jpg\nneg/neg-0638.jpg\nneg/neg-0639.jpg\nneg/neg-0640.jpg\nneg/neg-0641.jpg\nneg/neg-0642.jpg\nneg/neg-0643.jpg\nneg/neg-0644.jpg\nneg/neg-0645.jpg\nneg/neg-0646.jpg\nneg/neg-0647.jpg\nneg/neg-0648.jpg\nneg/neg-0649.jpg\nneg/neg-0650.jpg\nneg/neg-0651.jpg\nneg/neg-0652.jpg\nneg/neg-0653.jpg\nneg/neg-0654.jpg\nneg/neg-0655.jpg\nneg/neg-0656.jpg\nneg/neg-0657.jpg\nneg/neg-0658.jpg\nneg/neg-0659.jpg\nneg/neg-0660.jpg\nneg/neg-0663.jpg\nneg/neg-0664.jpg\nneg/neg-0665.jpg\nneg/neg-0666.jpg\nneg/neg-0667.jpg\nneg/neg-0668.jpg\nneg/neg-0669.jpg\nneg/neg-0670.jpg\nneg/neg-0671.jpg\nneg/neg-0672.jpg\n"
    }
   ],
   "source": [
    "NEG_DATASET = os.path.join(DATA_DIR,'gitneg')\n",
    "NEG_DIR = os.path.join(DATA_DIR,'neg')\n",
    "max = 600                                       # Max Neg Images\n",
    "count = 0\n",
    "\n",
    "im = np.array(im)\n",
    "for dirpath, dirnames, filenames in os.walk(NEG_DATASET):\n",
    "    for file in filenames:\n",
    "        count += 1\n",
    "        if count > max:\n",
    "            break\n",
    "        img = read_im(os.path.join(dirpath,file))\n",
    "        img = cv.resize(img,im.T.shape,cv.INTER_AREA)\n",
    "        line = \"neg/{}\\n\".format(file)\n",
    "        cv.imwrite(os.path.join(NEG_DIR,file),img)\n",
    "        print(line, end=\"\")  \n",
    "        with open(os.path.join(NEG_DIR,\"bg.txt\"),'a') as f:\n",
    "            f.write(line)\n"
   ]
  }
 ]
}