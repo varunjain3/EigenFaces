{
 "metadata": {
  "language_info": {
   "codemirror_mode": {
    "name": "ipython",
    "version": 3
   },
   "file_extension": ".py",
   "mimetype": "text/x-python",
   "name": "python",
   "nbconvert_exporter": "python",
   "pygments_lexer": "ipython3",
   "version": "3.5.6-final"
  },
  "orig_nbformat": 2,
  "kernelspec": {
   "name": "python_defaultSpec_1601651669017",
   "display_name": "Python 3.5.6 64-bit ('cv3.5': conda)",
   "metadata": {
    "interpreter": {
     "hash": "462ae0f680598b7af60426e82f96bd984d695cbbfafd29a908e429d295b8b575"
    }
   }
  }
 },
 "nbformat": 4,
 "nbformat_minor": 2,
 "cells": [
  {
   "cell_type": "code",
   "execution_count": null,
   "metadata": {},
   "outputs": [],
   "source": [
    "%matplotlib inline\n",
    "import cv2 as cv\n",
    "import os\n",
    "import PIL\n",
    "import matplotlib.pyplot as plt\n",
    "import numpy as np\n"
   ]
  },
  {
   "cell_type": "code",
   "execution_count": null,
   "metadata": {},
   "outputs": [],
   "source": [
    "DATASET = os.path.join(os.getcwd(),\"YALE\") \n",
    "DATA_DIR = os.path.join(os.getcwd(),\"data\") "
   ]
  },
  {
   "cell_type": "code",
   "execution_count": null,
   "metadata": {},
   "outputs": [],
   "source": [
    "def read_im(path):\n",
    "    image = PIL.Image.open(path)\n",
    "    return np.array(image)\n",
    "\n",
    "def show_im(image):\n",
    "    plt.imshow(image,cmap=\"gray\")\n",
    "    plt.show()\n",
    "\n",
    "def find_faces(gray):\n",
    "  faces = face_cascade.detectMultiScale(gray, 1.3, 3)\n",
    "  return faces"
   ]
  },
  {
   "cell_type": "code",
   "execution_count": null,
   "metadata": {
    "tags": []
   },
   "outputs": [],
   "source": [
    "# For preparing pos images \n",
    "count = 0\n",
    "\n",
    "for dirpath, dirnames, filenames in os.walk(FACE_DIR):\n",
    "    for file in filenames:\n",
    "        i = count // 11 + 1\n",
    "        j = count % 11 + 1\n",
    "        count+= 1\n",
    "\n",
    "        # print(file)\n",
    "        im = PIL.Image.open(os.path.join(dirpath,file)) \n",
    "        im_flip = im.transpose(PIL.Image.FLIP_LEFT_RIGHT)\n",
    "        # print(i,j)\n",
    "        new_file = \"data/pos/\" + str(i).zfill(2) + str(j).zfill(2) + '.jpg'\n",
    "        flip_file = \"data/pos/\" + str(i).zfill(2) + str(j).zfill(2) + '_flip.jpg'\n",
    "        print(new_file,flip_file)\n",
    "        im.save(new_file)\n",
    "        im_flip.save(flip_file)\n"
   ]
  },
  {
   "cell_type": "code",
   "execution_count": null,
   "metadata": {
    "tags": []
   },
   "outputs": [],
   "source": [
    "POS_DIR = os.path.join(DATA_DIR,\"pos\")\n",
    "print(POS_DIR)"
   ]
  },
  {
   "cell_type": "code",
   "execution_count": 57,
   "metadata": {},
   "outputs": [],
   "source": [
    "im = np.array(im)"
   ]
  },
  {
   "cell_type": "code",
   "execution_count": null,
   "metadata": {},
   "outputs": [],
   "source": [
    "face_cascade = cv.CascadeClassifier('haarcascade_frontalface_default.xml')"
   ]
  },
  {
   "cell_type": "code",
   "execution_count": 68,
   "metadata": {
    "tags": []
   },
   "outputs": [],
   "source": [
    "for dirpath, dirnames, filenames in os.walk(POS_DIR):\n",
    "    for file in filenames:\n",
    "        img = read_im(os.path.join(dirpath,file))\n",
    "        faces = find_faces(img)\n",
    "        # print(faces)\n",
    "        line = \"pos\" + \"/\" + file + \" 1 {} {} {} {}\\n\".format(faces[0][0],faces[0][1],faces[0][2],faces[0][3])\n",
    "        with open(os.path.join(POS_DIR,\"info.dat\"),'a') as f:\n",
    "            f.write(line)\n",
    "        # print(line)  \n"
   ]
  },
  {
   "cell_type": "code",
   "execution_count": 69,
   "metadata": {
    "tags": []
   },
   "outputs": [
    {
     "output_type": "stream",
     "name": "stdout",
     "text": "neg/neg-0002.jpg\n\nneg/neg-0003.jpg\n\nneg/neg-0004.jpg\n\nneg/neg-0005.jpg\n\nneg/neg-0006.jpg\n\nneg/neg-0007.jpg\n\nneg/neg-0009.jpg\n\nneg/neg-0010.jpg\n\nneg/neg-0011.jpg\n\nneg/neg-0012.jpg\n\nneg/neg-0013.jpg\n\nneg/neg-0015.jpg\n\nneg/neg-0016.jpg\n\nneg/neg-0019.jpg\n\nneg/neg-0020.jpg\n\nneg/neg-0022.jpg\n\nneg/neg-0023.jpg\n\nneg/neg-0024.jpg\n\nneg/neg-0025.jpg\n\nneg/neg-0026.jpg\n\nneg/neg-0027.jpg\n\nneg/neg-0028.jpg\n\nneg/neg-0029.jpg\n\nneg/neg-0030.jpg\n\nneg/neg-0031.jpg\n\nneg/neg-0034.jpg\n\nneg/neg-0035.jpg\n\nneg/neg-0036.jpg\n\nneg/neg-0037.jpg\n\nneg/neg-0038.jpg\n\nneg/neg-0039.jpg\n\nneg/neg-0040.jpg\n\nneg/neg-0041.jpg\n\nneg/neg-0042.jpg\n\nneg/neg-0044.jpg\n\nneg/neg-0045.jpg\n\nneg/neg-0046.jpg\n\nneg/neg-0047.jpg\n\nneg/neg-0048.jpg\n\nneg/neg-0049.jpg\n\nneg/neg-0050.jpg\n\nneg/neg-0051.jpg\n\nneg/neg-0052.jpg\n\nneg/neg-0053.jpg\n\nneg/neg-0054.jpg\n\nneg/neg-0055.jpg\n\nneg/neg-0056.jpg\n\nneg/neg-0057.jpg\n\nneg/neg-0058.jpg\n\nneg/neg-0059.jpg\n\nneg/neg-0060.jpg\n\nneg/neg-0061.jpg\n\nneg/neg-0062.jpg\n\nneg/neg-0063.jpg\n\nneg/neg-0064.jpg\n\nneg/neg-0065.jpg\n\nneg/neg-0066.jpg\n\nneg/neg-0067.jpg\n\nneg/neg-0068.jpg\n\nneg/neg-0069.jpg\n\nneg/neg-0070.jpg\n\nneg/neg-0071.jpg\n\nneg/neg-0072.jpg\n\nneg/neg-0073.jpg\n\nneg/neg-0074.jpg\n\nneg/neg-0075.jpg\n\nneg/neg-0076.jpg\n\nneg/neg-0077.jpg\n\nneg/neg-0078.jpg\n\nneg/neg-0079.jpg\n\nneg/neg-0080.jpg\n\nneg/neg-0081.jpg\n\nneg/neg-0082.jpg\n\nneg/neg-0083.jpg\n\nneg/neg-0084.jpg\n\nneg/neg-0085.jpg\n\nneg/neg-0086.jpg\n\nneg/neg-0087.jpg\n\nneg/neg-0088.jpg\n\nneg/neg-0089.jpg\n\nneg/neg-0090.jpg\n\nneg/neg-0091.jpg\n\nneg/neg-0092.jpg\n\nneg/neg-0093.jpg\n\nneg/neg-0094.jpg\n\nneg/neg-0095.jpg\n\nneg/neg-0096.jpg\n\nneg/neg-0097.jpg\n\nneg/neg-0098.jpg\n\nneg/neg-0099.jpg\n\nneg/neg-0100.jpg\n\nneg/neg-0101.jpg\n\nneg/neg-0102.jpg\n\nneg/neg-0103.jpg\n\nneg/neg-0104.jpg\n\nneg/neg-0105.jpg\n\nneg/neg-0106.jpg\n\nneg/neg-0107.jpg\n\nneg/neg-0108.jpg\n\nneg/neg-0109.jpg\n\nneg/neg-0110.jpg\n\nneg/neg-0111.jpg\n\nneg/neg-0112.jpg\n\nneg/neg-0113.jpg\n\nneg/neg-0114.jpg\n\nneg/neg-0115.jpg\n\nneg/neg-0116.jpg\n\nneg/neg-0118.jpg\n\nneg/neg-0119.jpg\n\nneg/neg-0121.jpg\n\nneg/neg-0123.jpg\n\nneg/neg-0124.jpg\n\nneg/neg-0125.jpg\n\nneg/neg-0126.jpg\n\nneg/neg-0127.jpg\n\nneg/neg-0128.jpg\n\nneg/neg-0129.jpg\n\nneg/neg-0130.jpg\n\nneg/neg-0131.jpg\n\nneg/neg-0132.jpg\n\nneg/neg-0133.jpg\n\nneg/neg-0134.jpg\n\nneg/neg-0135.jpg\n\nneg/neg-0136.jpg\n\nneg/neg-0137.jpg\n\nneg/neg-0138.jpg\n\nneg/neg-0141.jpg\n\nneg/neg-0142.jpg\n\nneg/neg-0143.jpg\n\nneg/neg-0144.jpg\n\nneg/neg-0145.jpg\n\nneg/neg-0146.jpg\n\nneg/neg-0147.jpg\n\nneg/neg-0148.jpg\n\nneg/neg-0149.jpg\n\nneg/neg-0150.jpg\n\nneg/neg-0151.jpg\n\nneg/neg-0152.jpg\n\nneg/neg-0153.jpg\n\nneg/neg-0154.jpg\n\nneg/neg-0155.jpg\n\nneg/neg-0156.jpg\n\nneg/neg-0157.jpg\n\nneg/neg-0158.jpg\n\nneg/neg-0159.jpg\n\nneg/neg-0161.jpg\n\nneg/neg-0162.jpg\n\nneg/neg-0163.jpg\n\nneg/neg-0164.jpg\n\nneg/neg-0165.jpg\n\nneg/neg-0166.jpg\n\nneg/neg-0167.jpg\n\nneg/neg-0168.jpg\n\nneg/neg-0169.jpg\n\nneg/neg-0170.jpg\n\nneg/neg-0171.jpg\n\nneg/neg-0172.jpg\n\nneg/neg-0173.jpg\n\nneg/neg-0174.jpg\n\nneg/neg-0176.jpg\n\nneg/neg-0179.jpg\n\nneg/neg-0180.jpg\n\nneg/neg-0181.jpg\n\nneg/neg-0182.jpg\n\nneg/neg-0183.jpg\n\nneg/neg-0184.jpg\n\nneg/neg-0185.jpg\n\nneg/neg-0186.jpg\n\nneg/neg-0187.jpg\n\nneg/neg-0189.jpg\n\nneg/neg-0190.jpg\n\nneg/neg-0191.jpg\n\nneg/neg-0192.jpg\n\nneg/neg-0193.jpg\n\nneg/neg-0194.jpg\n\nneg/neg-0195.jpg\n\nneg/neg-0196.jpg\n\nneg/neg-0197.jpg\n\nneg/neg-0198.jpg\n\nneg/neg-0199.jpg\n\nneg/neg-0200.jpg\n\nneg/neg-0201.jpg\n\nneg/neg-0202.jpg\n\nneg/neg-0203.jpg\n\nneg/neg-0204.jpg\n\nneg/neg-0205.jpg\n\nneg/neg-0207.jpg\n\nneg/neg-0208.jpg\n\nneg/neg-0209.jpg\n\nneg/neg-0210.jpg\n\nneg/neg-0211.jpg\n\nneg/neg-0213.jpg\n\nneg/neg-0214.jpg\n\nneg/neg-0215.jpg\n\nneg/neg-0216.jpg\n\nneg/neg-0217.jpg\n\nneg/neg-0218.jpg\n\nneg/neg-0219.jpg\n\nneg/neg-0220.jpg\n\nneg/neg-0221.jpg\n\nneg/neg-0222.jpg\n\nneg/neg-0223.jpg\n\nneg/neg-0224.jpg\n\nneg/neg-0225.jpg\n\nneg/neg-0226.jpg\n\nneg/neg-0227.jpg\n\nneg/neg-0228.jpg\n\nneg/neg-0229.jpg\n\nneg/neg-0230.jpg\n\nneg/neg-0231.jpg\n\nneg/neg-0232.jpg\n\nneg/neg-0233.jpg\n\nneg/neg-0234.jpg\n\nneg/neg-0235.jpg\n\nneg/neg-0236.jpg\n\nneg/neg-0237.jpg\n\nneg/neg-0238.jpg\n\nneg/neg-0239.jpg\n\nneg/neg-0240.jpg\n\nneg/neg-0241.jpg\n\nneg/neg-0242.jpg\n\nneg/neg-0243.jpg\n\nneg/neg-0244.jpg\n\nneg/neg-0245.jpg\n\nneg/neg-0246.jpg\n\nneg/neg-0247.jpg\n\nneg/neg-0248.jpg\n\nneg/neg-0249.jpg\n\nneg/neg-0250.jpg\n\nneg/neg-0251.jpg\n\nneg/neg-0252.jpg\n\nneg/neg-0253.jpg\n\nneg/neg-0254.jpg\n\nneg/neg-0255.jpg\n\nneg/neg-0256.jpg\n\nneg/neg-0257.jpg\n\nneg/neg-0258.jpg\n\nneg/neg-0259.jpg\n\nneg/neg-0260.jpg\n\nneg/neg-0261.jpg\n\nneg/neg-0262.jpg\n\nneg/neg-0263.jpg\n\nneg/neg-0264.jpg\n\nneg/neg-0265.jpg\n\nneg/neg-0266.jpg\n\nneg/neg-0267.jpg\n\nneg/neg-0268.jpg\n\nneg/neg-0269.jpg\n\nneg/neg-0270.jpg\n\nneg/neg-0271.jpg\n\nneg/neg-0272.jpg\n\nneg/neg-0273.jpg\n\nneg/neg-0274.jpg\n\nneg/neg-0275.jpg\n\nneg/neg-0279.jpg\n\nneg/neg-0280.jpg\n\nneg/neg-0281.jpg\n\nneg/neg-0282.jpg\n\nneg/neg-0283.jpg\n\nneg/neg-0284.jpg\n\nneg/neg-0285.jpg\n\nneg/neg-0286.jpg\n\nneg/neg-0287.jpg\n\nneg/neg-0288.jpg\n\nneg/neg-0289.jpg\n\nneg/neg-0290.jpg\n\nneg/neg-0291.jpg\n\nneg/neg-0292.jpg\n\nneg/neg-0293.jpg\n\nneg/neg-0294.jpg\n\nneg/neg-0295.jpg\n\nneg/neg-0296.jpg\n\nneg/neg-0297.jpg\n\nneg/neg-0298.jpg\n\nneg/neg-0299.jpg\n\nneg/neg-0300.jpg\n\nneg/neg-0301.jpg\n\nneg/neg-0302.jpg\n\nneg/neg-0303.jpg\n\nneg/neg-0304.jpg\n\nneg/neg-0305.jpg\n\nneg/neg-0306.jpg\n\nneg/neg-0307.jpg\n\nneg/neg-0308.jpg\n\nneg/neg-0309.jpg\n\nneg/neg-0310.jpg\n\nneg/neg-0311.jpg\n\nneg/neg-0312.jpg\n\nneg/neg-0314.jpg\n\nneg/neg-0315.jpg\n\nneg/neg-0316.jpg\n\nneg/neg-0317.jpg\n\nneg/neg-0318.jpg\n\nneg/neg-0319.jpg\n\nneg/neg-0320.jpg\n\nneg/neg-0322.jpg\n\nneg/neg-0323.jpg\n\nneg/neg-0324.jpg\n\nneg/neg-0325.jpg\n\nneg/neg-0326.jpg\n\nneg/neg-0327.jpg\n\nneg/neg-0328.jpg\n\nneg/neg-0329.jpg\n\nneg/neg-0330.jpg\n\nneg/neg-0331.jpg\n\nneg/neg-0332.jpg\n\nneg/neg-0333.jpg\n\nneg/neg-0334.jpg\n\nneg/neg-0335.jpg\n\nneg/neg-0336.jpg\n\nneg/neg-0337.jpg\n\nneg/neg-0338.jpg\n\nneg/neg-0339.jpg\n\nneg/neg-0340.jpg\n\nneg/neg-0341.jpg\n\nneg/neg-0342.jpg\n\nneg/neg-0343.jpg\n\nneg/neg-0344.jpg\n\nneg/neg-0345.jpg\n\nneg/neg-0346.jpg\n\nneg/neg-0347.jpg\n\nneg/neg-0348.jpg\n\nneg/neg-0349.jpg\n\nneg/neg-0350.jpg\n\nneg/neg-0351.jpg\n\nneg/neg-0352.jpg\n\nneg/neg-0355.jpg\n\nneg/neg-0358.jpg\n\nneg/neg-0360.jpg\n\nneg/neg-0361.jpg\n\nneg/neg-0362.jpg\n\nneg/neg-0363.jpg\n\nneg/neg-0364.jpg\n\nneg/neg-0365.jpg\n\nneg/neg-0366.jpg\n\nneg/neg-0367.jpg\n\nneg/neg-0368.jpg\n\nneg/neg-0369.jpg\n\nneg/neg-0370.jpg\n\nneg/neg-0371.jpg\n\nneg/neg-0373.jpg\n\nneg/neg-0374.jpg\n\nneg/neg-0375.jpg\n\nneg/neg-0376.jpg\n\nneg/neg-0377.jpg\n\nneg/neg-0378.jpg\n\nneg/neg-0379.jpg\n\nneg/neg-0380.jpg\n\nneg/neg-0381.jpg\n\nneg/neg-0382.jpg\n\nneg/neg-0383.jpg\n\nneg/neg-0384.jpg\n\nneg/neg-0385.jpg\n\nneg/neg-0386.jpg\n\nneg/neg-0388.jpg\n\nneg/neg-0389.jpg\n\nneg/neg-0390.jpg\n\nneg/neg-0391.jpg\n\nneg/neg-0394.jpg\n\nneg/neg-0395.jpg\n\nneg/neg-0396.jpg\n\nneg/neg-0397.jpg\n\nneg/neg-0398.jpg\n\nneg/neg-0399.jpg\n\nneg/neg-0400.jpg\n\nneg/neg-0401.jpg\n\nneg/neg-0402.jpg\n\nneg/neg-0403.jpg\n\nneg/neg-0404.jpg\n\nneg/neg-0405.jpg\n\nneg/neg-0406.jpg\n\nneg/neg-0407.jpg\n\nneg/neg-0412.jpg\n\nneg/neg-0413.jpg\n\nneg/neg-0416.jpg\n\nneg/neg-0417.jpg\n\nneg/neg-0418.jpg\n\nneg/neg-0419.jpg\n\nneg/neg-0420.jpg\n\nneg/neg-0421.jpg\n\nneg/neg-0422.jpg\n\nneg/neg-0423.jpg\n\nneg/neg-0424.jpg\n\nneg/neg-0425.jpg\n\nneg/neg-0426.jpg\n\nneg/neg-0427.jpg\n\nneg/neg-0428.jpg\n\nneg/neg-0429.jpg\n\nneg/neg-0430.jpg\n\nneg/neg-0434.jpg\n\nneg/neg-0435.jpg\n\nneg/neg-0438.jpg\n\nneg/neg-0439.jpg\n\nneg/neg-0440.jpg\n\nneg/neg-0441.jpg\n\nneg/neg-0442.jpg\n\nneg/neg-0443.jpg\n\nneg/neg-0444.jpg\n\nneg/neg-0445.jpg\n\nneg/neg-0446.jpg\n\nneg/neg-0447.jpg\n\nneg/neg-0449.jpg\n\nneg/neg-0450.jpg\n\nneg/neg-0451.jpg\n\nneg/neg-0452.jpg\n\nneg/neg-0453.jpg\n\nneg/neg-0454.jpg\n\nneg/neg-0455.jpg\n\nneg/neg-0456.jpg\n\nneg/neg-0457.jpg\n\nneg/neg-0458.jpg\n\nneg/neg-0459.jpg\n\nneg/neg-0460.jpg\n\nneg/neg-0461.jpg\n\nneg/neg-0462.jpg\n\nneg/neg-0463.jpg\n\nneg/neg-0464.jpg\n\nneg/neg-0465.jpg\n\nneg/neg-0466.jpg\n\nneg/neg-0467.jpg\n\nneg/neg-0469.jpg\n\nneg/neg-0470.jpg\n\nneg/neg-0471.jpg\n\nneg/neg-0472.jpg\n\nneg/neg-0473.jpg\n\nneg/neg-0475.jpg\n\nneg/neg-0476.jpg\n\nneg/neg-0477.jpg\n\nneg/neg-0478.jpg\n\nneg/neg-0479.jpg\n\nneg/neg-0481.jpg\n\nneg/neg-0482.jpg\n\nneg/neg-0483.jpg\n\nneg/neg-0484.jpg\n\nneg/neg-0485.jpg\n\nneg/neg-0486.jpg\n\nneg/neg-0488.jpg\n\nneg/neg-0489.jpg\n\nneg/neg-0490.jpg\n\nneg/neg-0491.jpg\n\nneg/neg-0492.jpg\n\nneg/neg-0493.jpg\n\nneg/neg-0494.jpg\n\nneg/neg-0495.jpg\n\nneg/neg-0496.jpg\n\nneg/neg-0497.jpg\n\nneg/neg-0498.jpg\n\nneg/neg-0499.jpg\n\nneg/neg-0500.jpg\n\nneg/neg-0501.jpg\n\nneg/neg-0502.jpg\n\nneg/neg-0503.jpg\n\nneg/neg-0506.jpg\n\nneg/neg-0507.jpg\n\nneg/neg-0508.jpg\n\nneg/neg-0509.jpg\n\nneg/neg-0510.jpg\n\nneg/neg-0511.jpg\n\nneg/neg-0512.jpg\n\nneg/neg-0513.jpg\n\nneg/neg-0514.jpg\n\nneg/neg-0515.jpg\n\nneg/neg-0516.jpg\n\nneg/neg-0517.jpg\n\nneg/neg-0520.jpg\n\nneg/neg-0521.jpg\n\nneg/neg-0522.jpg\n\nneg/neg-0523.jpg\n\nneg/neg-0524.jpg\n\nneg/neg-0525.jpg\n\nneg/neg-0526.jpg\n\nneg/neg-0527.jpg\n\nneg/neg-0529.jpg\n\nneg/neg-0530.jpg\n\nneg/neg-0533.jpg\n\nneg/neg-0534.jpg\n\nneg/neg-0535.jpg\n\nneg/neg-0539.jpg\n\nneg/neg-0540.jpg\n\nneg/neg-0541.jpg\n\nneg/neg-0543.jpg\n\nneg/neg-0544.jpg\n\nneg/neg-0545.jpg\n\nneg/neg-0546.jpg\n\nneg/neg-0547.jpg\n\nneg/neg-0548.jpg\n\nneg/neg-0549.jpg\n\nneg/neg-0550.jpg\n\nneg/neg-0551.jpg\n\nneg/neg-0552.jpg\n\nneg/neg-0553.jpg\n\nneg/neg-0554.jpg\n\nneg/neg-0555.jpg\n\nneg/neg-0556.jpg\n\nneg/neg-0557.jpg\n\nneg/neg-0559.jpg\n\nneg/neg-0561.jpg\n\nneg/neg-0562.jpg\n\nneg/neg-0563.jpg\n\nneg/neg-0564.jpg\n\nneg/neg-0565.jpg\n\nneg/neg-0566.jpg\n\nneg/neg-0567.jpg\n\nneg/neg-0569.jpg\n\nneg/neg-0572.jpg\n\nneg/neg-0573.jpg\n\nneg/neg-0574.jpg\n\nneg/neg-0575.jpg\n\nneg/neg-0576.jpg\n\nneg/neg-0577.jpg\n\nneg/neg-0578.jpg\n\nneg/neg-0579.jpg\n\nneg/neg-0580.jpg\n\nneg/neg-0581.jpg\n\nneg/neg-0582.jpg\n\nneg/neg-0584.jpg\n\nneg/neg-0586.jpg\n\nneg/neg-0588.jpg\n\nneg/neg-0589.jpg\n\nneg/neg-0590.jpg\n\nneg/neg-0591.jpg\n\nneg/neg-0592.jpg\n\nneg/neg-0593.jpg\n\nneg/neg-0594.jpg\n\nneg/neg-0595.jpg\n\nneg/neg-0596.jpg\n\nneg/neg-0597.jpg\n\nneg/neg-0598.jpg\n\nneg/neg-0599.jpg\n\nneg/neg-0600.jpg\n\nneg/neg-0601.jpg\n\nneg/neg-0602.jpg\n\nneg/neg-0603.jpg\n\nneg/neg-0604.jpg\n\nneg/neg-0605.jpg\n\nneg/neg-0606.jpg\n\nneg/neg-0607.jpg\n\nneg/neg-0608.jpg\n\nneg/neg-0609.jpg\n\nneg/neg-0610.jpg\n\nneg/neg-0611.jpg\n\nneg/neg-0612.jpg\n\nneg/neg-0613.jpg\n\nneg/neg-0614.jpg\n\nneg/neg-0615.jpg\n\nneg/neg-0616.jpg\n\nneg/neg-0617.jpg\n\nneg/neg-0618.jpg\n\nneg/neg-0619.jpg\n\nneg/neg-0620.jpg\n\nneg/neg-0621.jpg\n\nneg/neg-0622.jpg\n\nneg/neg-0623.jpg\n\nneg/neg-0624.jpg\n\nneg/neg-0625.jpg\n\nneg/neg-0626.jpg\n\nneg/neg-0627.jpg\n\nneg/neg-0628.jpg\n\nneg/neg-0629.jpg\n\nneg/neg-0630.jpg\n\nneg/neg-0631.jpg\n\nneg/neg-0632.jpg\n\nneg/neg-0633.jpg\n\nneg/neg-0634.jpg\n\nneg/neg-0635.jpg\n\nneg/neg-0636.jpg\n\nneg/neg-0637.jpg\n\nneg/neg-0638.jpg\n\nneg/neg-0639.jpg\n\nneg/neg-0640.jpg\n\nneg/neg-0641.jpg\n\nneg/neg-0642.jpg\n\nneg/neg-0643.jpg\n\nneg/neg-0644.jpg\n\nneg/neg-0645.jpg\n\nneg/neg-0646.jpg\n\nneg/neg-0647.jpg\n\nneg/neg-0648.jpg\n\nneg/neg-0649.jpg\n\nneg/neg-0650.jpg\n\nneg/neg-0651.jpg\n\nneg/neg-0652.jpg\n\nneg/neg-0653.jpg\n\nneg/neg-0654.jpg\n\nneg/neg-0655.jpg\n\nneg/neg-0656.jpg\n\nneg/neg-0657.jpg\n\nneg/neg-0658.jpg\n\nneg/neg-0659.jpg\n\nneg/neg-0660.jpg\n\nneg/neg-0663.jpg\n\nneg/neg-0664.jpg\n\nneg/neg-0665.jpg\n\nneg/neg-0666.jpg\n\nneg/neg-0667.jpg\n\nneg/neg-0668.jpg\n\nneg/neg-0669.jpg\n\nneg/neg-0670.jpg\n\nneg/neg-0671.jpg\n\nneg/neg-0672.jpg\n\n"
    }
   ],
   "source": [
    "NEG_DATASET = os.path.join(DATA_DIR,'gitneg')\n",
    "max = 600\n",
    "count = 0\n",
    "\n",
    "NEG_DIR = os.path.join(DATA_DIR,'neg')\n",
    "\n",
    "for dirpath, dirnames, filenames in os.walk(NEG_DATASET):\n",
    "    for file in filenames:\n",
    "        count += 1\n",
    "        if count > max:\n",
    "            break\n",
    "        img = read_im(os.path.join(dirpath,file))\n",
    "        img = cv.resize(img,im.T.shape,cv.INTER_AREA)\n",
    "        line = \"neg/{}\\n\".format(file)\n",
    "        cv.imwrite(os.path.join(NEG_DIR,file),img)\n",
    "        print(line)  \n",
    "        with open(os.path.join(NEG_DIR,\"bg.txt\"),'a') as f:\n",
    "            f.write(line)\n"
   ]
  },
  {
   "cell_type": "code",
   "execution_count": 58,
   "metadata": {},
   "outputs": [
    {
     "output_type": "execute_result",
     "data": {
      "text/plain": "(243, 320)"
     },
     "metadata": {},
     "execution_count": 58
    }
   ],
   "source": [
    "im.shape"
   ]
  },
  {
   "cell_type": "code",
   "execution_count": null,
   "metadata": {},
   "outputs": [],
   "source": []
  }
 ]
}